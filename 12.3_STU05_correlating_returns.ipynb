{
 "cells": [
  {
   "cell_type": "markdown",
   "metadata": {},
   "source": [
    "# Correlating Returns"
   ]
  },
  {
   "cell_type": "code",
   "execution_count": 1,
   "metadata": {
    "scrolled": true
   },
   "outputs": [],
   "source": [
    "import os\n",
    "import pandas as pd\n",
    "from datetime import datetime, timedelta\n",
    "from dotenv import load_dotenv\n",
    "import alpaca_trade_api as tradeapi\n",
    "from newsapi.newsapi_client import NewsApiClient\n",
    "from nltk.sentiment.vader import SentimentIntensityAnalyzer\n",
    "from alpaca_trade_api.rest import REST, TimeFrame\n",
    "\n",
    "import yfinance as yf\n",
    "import datetime as dt "
   ]
  },
  {
   "cell_type": "markdown",
   "metadata": {},
   "source": [
    "## Load API Keys from Environment Variables"
   ]
  },
  {
   "cell_type": "code",
   "execution_count": 2,
   "metadata": {},
   "outputs": [],
   "source": [
    "# Load .env enviroment variables\n",
    "load_dotenv()\n",
    "\n",
    "# Set News API Key\n",
    "newsapi = NewsApiClient(api_key=os.environ[\"NEWS_API_KEY\"])\n",
    "\n",
    "# Set Alpaca API key and secret\n",
    "alpaca_api_key = os.getenv(\"ALPACA_API_KEY\")\n",
    "alpaca_secret_key = os.getenv(\"ALPACA_SECRET_KEY\")\n",
    "\n",
    "api = tradeapi.REST(alpaca_api_key, alpaca_secret_key, api_version='v2')"
   ]
  },
  {
   "cell_type": "markdown",
   "metadata": {},
   "source": [
    "## Get AAPL Returns for Past Month"
   ]
  },
  {
   "cell_type": "code",
   "execution_count": 3,
   "metadata": {},
   "outputs": [
    {
     "name": "stdout",
     "output_type": "stream",
     "text": [
      "[*********************100%***********************]  1 of 1 completed\n"
     ]
    },
    {
     "data": {
      "text/html": [
       "<div>\n",
       "<style scoped>\n",
       "    .dataframe tbody tr th:only-of-type {\n",
       "        vertical-align: middle;\n",
       "    }\n",
       "\n",
       "    .dataframe tbody tr th {\n",
       "        vertical-align: top;\n",
       "    }\n",
       "\n",
       "    .dataframe thead th {\n",
       "        text-align: right;\n",
       "    }\n",
       "</style>\n",
       "<table border=\"1\" class=\"dataframe\">\n",
       "  <thead>\n",
       "    <tr style=\"text-align: right;\">\n",
       "      <th></th>\n",
       "      <th>Open</th>\n",
       "      <th>High</th>\n",
       "      <th>Low</th>\n",
       "      <th>Close</th>\n",
       "      <th>Adj Close</th>\n",
       "      <th>Volume</th>\n",
       "    </tr>\n",
       "    <tr>\n",
       "      <th>Date</th>\n",
       "      <th></th>\n",
       "      <th></th>\n",
       "      <th></th>\n",
       "      <th></th>\n",
       "      <th></th>\n",
       "      <th></th>\n",
       "    </tr>\n",
       "  </thead>\n",
       "  <tbody>\n",
       "    <tr>\n",
       "      <th>2022-05-10</th>\n",
       "      <td>155.520004</td>\n",
       "      <td>156.740005</td>\n",
       "      <td>152.929993</td>\n",
       "      <td>154.509995</td>\n",
       "      <td>154.509995</td>\n",
       "      <td>115366700</td>\n",
       "    </tr>\n",
       "    <tr>\n",
       "      <th>2022-05-11</th>\n",
       "      <td>153.500000</td>\n",
       "      <td>155.449997</td>\n",
       "      <td>145.809998</td>\n",
       "      <td>146.500000</td>\n",
       "      <td>146.500000</td>\n",
       "      <td>142689800</td>\n",
       "    </tr>\n",
       "    <tr>\n",
       "      <th>2022-05-12</th>\n",
       "      <td>142.770004</td>\n",
       "      <td>146.199997</td>\n",
       "      <td>138.800003</td>\n",
       "      <td>142.559998</td>\n",
       "      <td>142.559998</td>\n",
       "      <td>182602000</td>\n",
       "    </tr>\n",
       "    <tr>\n",
       "      <th>2022-05-13</th>\n",
       "      <td>144.589996</td>\n",
       "      <td>148.100006</td>\n",
       "      <td>143.110001</td>\n",
       "      <td>147.110001</td>\n",
       "      <td>147.110001</td>\n",
       "      <td>113787000</td>\n",
       "    </tr>\n",
       "    <tr>\n",
       "      <th>2022-05-16</th>\n",
       "      <td>145.550003</td>\n",
       "      <td>147.520004</td>\n",
       "      <td>144.179993</td>\n",
       "      <td>145.539993</td>\n",
       "      <td>145.539993</td>\n",
       "      <td>86541200</td>\n",
       "    </tr>\n",
       "  </tbody>\n",
       "</table>\n",
       "</div>"
      ],
      "text/plain": [
       "                  Open        High         Low       Close   Adj Close  \\\n",
       "Date                                                                     \n",
       "2022-05-10  155.520004  156.740005  152.929993  154.509995  154.509995   \n",
       "2022-05-11  153.500000  155.449997  145.809998  146.500000  146.500000   \n",
       "2022-05-12  142.770004  146.199997  138.800003  142.559998  142.559998   \n",
       "2022-05-13  144.589996  148.100006  143.110001  147.110001  147.110001   \n",
       "2022-05-16  145.550003  147.520004  144.179993  145.539993  145.539993   \n",
       "\n",
       "               Volume  \n",
       "Date                   \n",
       "2022-05-10  115366700  \n",
       "2022-05-11  142689800  \n",
       "2022-05-12  182602000  \n",
       "2022-05-13  113787000  \n",
       "2022-05-16   86541200  "
      ]
     },
     "execution_count": 3,
     "metadata": {},
     "output_type": "execute_result"
    }
   ],
   "source": [
    "# Set the ticker\n",
    "ticker = \"AAPL\"\n",
    "\n",
    "# Set timeframe to '1D'\n",
    "timeframe = \"1D\"\n",
    "\n",
    "# Set current date and the date from one month ago using the ISO format\n",
    "current_date = pd.Timestamp('2022-04-11', tz=\"America/New_York\").isoformat()\n",
    "past_date = pd.Timestamp('2022-05-11', tz=\"America/New_York\").isoformat()\n",
    "\n",
    "# Get 4 weeks worth of historical data for AAPL\n",
    "df = api.get_bars(\n",
    "    ticker,\n",
    "    TimeFrame.Day,\n",
    "    limit=None,\n",
    "    start='2022-04-05',\n",
    "    end='2022-05-10',\n",
    "    #after=None,\n",
    "    #until=None,\n",
    ").df\n",
    "\n",
    "start = dt.datetime.today()-dt.timedelta(35)\n",
    "end = dt.datetime.today()\n",
    "ticker = 'AAPL'\n",
    "df = yf.download(ticker, start, end)\n",
    "df.tail()"
   ]
  },
  {
   "cell_type": "code",
   "execution_count": 4,
   "metadata": {},
   "outputs": [],
   "source": [
    "# Drop Outer Table Level\n",
    "\n",
    "# Use the drop function to drop extra columns\n",
    "df = df.drop(columns=[\"Open\", \"High\", \"Low\", \"Volume\"], axis=1)\n",
    "\n",
    "# Since this is daily data, we can keep only the date (remove the time) component of the data\n",
    "df.index = df.index.date\n",
    "\n",
    "# Display sample data\n",
    "df.head()\n",
    "df.to_excel('AAPLRaw.xlsx')"
   ]
  },
  {
   "cell_type": "code",
   "execution_count": 5,
   "metadata": {},
   "outputs": [
    {
     "data": {
      "text/html": [
       "<div>\n",
       "<style scoped>\n",
       "    .dataframe tbody tr th:only-of-type {\n",
       "        vertical-align: middle;\n",
       "    }\n",
       "\n",
       "    .dataframe tbody tr th {\n",
       "        vertical-align: top;\n",
       "    }\n",
       "\n",
       "    .dataframe thead th {\n",
       "        text-align: right;\n",
       "    }\n",
       "</style>\n",
       "<table border=\"1\" class=\"dataframe\">\n",
       "  <thead>\n",
       "    <tr style=\"text-align: right;\">\n",
       "      <th></th>\n",
       "      <th>Close</th>\n",
       "      <th>Adj Close</th>\n",
       "    </tr>\n",
       "  </thead>\n",
       "  <tbody>\n",
       "    <tr>\n",
       "      <th>2022-05-05</th>\n",
       "      <td>-0.014416</td>\n",
       "      <td>-0.012968</td>\n",
       "    </tr>\n",
       "    <tr>\n",
       "      <th>2022-05-06</th>\n",
       "      <td>-0.068540</td>\n",
       "      <td>-0.068540</td>\n",
       "    </tr>\n",
       "    <tr>\n",
       "      <th>2022-05-09</th>\n",
       "      <td>-0.062475</td>\n",
       "      <td>-0.062475</td>\n",
       "    </tr>\n",
       "    <tr>\n",
       "      <th>2022-05-10</th>\n",
       "      <td>-0.047893</td>\n",
       "      <td>-0.047893</td>\n",
       "    </tr>\n",
       "    <tr>\n",
       "      <th>2022-05-11</th>\n",
       "      <td>-0.006553</td>\n",
       "      <td>-0.006553</td>\n",
       "    </tr>\n",
       "  </tbody>\n",
       "</table>\n",
       "</div>"
      ],
      "text/plain": [
       "               Close  Adj Close\n",
       "2022-05-05 -0.014416  -0.012968\n",
       "2022-05-06 -0.068540  -0.068540\n",
       "2022-05-09 -0.062475  -0.062475\n",
       "2022-05-10 -0.047893  -0.047893\n",
       "2022-05-11 -0.006553  -0.006553"
      ]
     },
     "execution_count": 5,
     "metadata": {},
     "output_type": "execute_result"
    }
   ],
   "source": [
    "# Use the `pct_change` function to calculate daily returns of AAPL\n",
    "aapl_returns = df.pct_change(3).shift(-3).dropna()\n",
    "\n",
    "# Display sample data\n",
    "df.to_excel('aapl.xlsx')\n",
    "aapl_returns.tail()"
   ]
  },
  {
   "cell_type": "code",
   "execution_count": 6,
   "metadata": {},
   "outputs": [],
   "source": [
    "# Use newsapi client to get most relevant 20 headlines per day in the past month\n",
    "def get_headlines(keyword):\n",
    "    all_headlines = []\n",
    "    all_dates = []    \n",
    "    date = datetime.strptime(current_date[:10], \"%Y-%m-%d\")\n",
    "    end_date = datetime.strptime(past_date[:10], \"%Y-%m-%d\")\n",
    "    print(f\"Fetching news about '{keyword}'\")\n",
    "    print(\"*\" * 30)\n",
    "    while date > end_date:\n",
    "        print(f\"retrieving news from: {date}\")\n",
    "        articles = newsapi.get_everything(\n",
    "            q=keyword,\n",
    "            from_param=str(date)[:10],\n",
    "            to=str(date)[:10],\n",
    "            language=\"en\",\n",
    "            sort_by=\"relevancy\",\n",
    "            page=1,\n",
    "        )\n",
    "        headlines = []\n",
    "        for i in range(0, len(articles[\"articles\"])):\n",
    "            headlines.append(articles[\"articles\"][i][\"title\"])\n",
    "        all_headlines.append(headlines)\n",
    "        all_dates.append(date)\n",
    "        date = date - timedelta(days=1)\n",
    "    return all_headlines, all_dates"
   ]
  },
  {
   "cell_type": "markdown",
   "metadata": {},
   "source": [
    "Note: Be aware that running the 3 requests below will only work once within a 24 hour period due to the request limits imposed by the API provider."
   ]
  },
  {
   "cell_type": "code",
   "execution_count": 7,
   "metadata": {
    "tags": []
   },
   "outputs": [
    {
     "name": "stdout",
     "output_type": "stream",
     "text": [
      "Fetching news about 'aapl'\n",
      "******************************\n"
     ]
    }
   ],
   "source": [
    "# Get first topic\n",
    "aapl_headlines, dates = get_headlines(\"aapl\")"
   ]
  },
  {
   "cell_type": "code",
   "execution_count": 8,
   "metadata": {},
   "outputs": [
    {
     "name": "stdout",
     "output_type": "stream",
     "text": [
      "Fetching news about 'trade'\n",
      "******************************\n"
     ]
    }
   ],
   "source": [
    "# Get second topic\n",
    "trade_headlines, _ = get_headlines(\"trade\")"
   ]
  },
  {
   "cell_type": "code",
   "execution_count": 9,
   "metadata": {},
   "outputs": [
    {
     "name": "stdout",
     "output_type": "stream",
     "text": [
      "Fetching news about 'economy'\n",
      "******************************\n"
     ]
    }
   ],
   "source": [
    "# Get third topic\n",
    "economy_headlines, _ = get_headlines(\"economy\")"
   ]
  },
  {
   "cell_type": "code",
   "execution_count": 10,
   "metadata": {},
   "outputs": [],
   "source": [
    "# Instantiate SentimentIntensityAnalyzer\n",
    "sid = SentimentIntensityAnalyzer()"
   ]
  },
  {
   "cell_type": "code",
   "execution_count": 11,
   "metadata": {},
   "outputs": [],
   "source": [
    "# Create function that computes average compound sentiment of headlines for each day\n",
    "def headline_sentiment_summarizer_avg(headlines):\n",
    "    sentiment = []\n",
    "    for day in headlines:\n",
    "        day_score = []\n",
    "        for h in day:\n",
    "            if h == None:\n",
    "                continue\n",
    "            else:\n",
    "                day_score.append(sid.polarity_scores(h)[\"compound\"])\n",
    "        sentiment.append(sum(day_score) / len(day_score))\n",
    "    return sentiment"
   ]
  },
  {
   "cell_type": "code",
   "execution_count": 12,
   "metadata": {},
   "outputs": [],
   "source": [
    "# Get averages of each topics sentiment\n",
    "aapl_avg = headline_sentiment_summarizer_avg(aapl_headlines)\n",
    "trade_avg = headline_sentiment_summarizer_avg(trade_headlines)\n",
    "economy_avg = headline_sentiment_summarizer_avg(economy_headlines)"
   ]
  },
  {
   "cell_type": "code",
   "execution_count": 13,
   "metadata": {},
   "outputs": [
    {
     "data": {
      "text/html": [
       "<div>\n",
       "<style scoped>\n",
       "    .dataframe tbody tr th:only-of-type {\n",
       "        vertical-align: middle;\n",
       "    }\n",
       "\n",
       "    .dataframe tbody tr th {\n",
       "        vertical-align: top;\n",
       "    }\n",
       "\n",
       "    .dataframe thead th {\n",
       "        text-align: right;\n",
       "    }\n",
       "</style>\n",
       "<table border=\"1\" class=\"dataframe\">\n",
       "  <thead>\n",
       "    <tr style=\"text-align: right;\">\n",
       "      <th></th>\n",
       "      <th>aapl_avg</th>\n",
       "      <th>trade_avg</th>\n",
       "      <th>economy_avg</th>\n",
       "    </tr>\n",
       "  </thead>\n",
       "  <tbody>\n",
       "  </tbody>\n",
       "</table>\n",
       "</div>"
      ],
      "text/plain": [
       "Empty DataFrame\n",
       "Columns: [aapl_avg, trade_avg, economy_avg]\n",
       "Index: []"
      ]
     },
     "execution_count": 13,
     "metadata": {},
     "output_type": "execute_result"
    }
   ],
   "source": [
    "# Combine Sentiment Averages into DataFrame\n",
    "topic_sentiments = pd.DataFrame(\n",
    "    {\n",
    "        \"aapl_avg\": aapl_avg,\n",
    "        \"trade_avg\": trade_avg,\n",
    "        \"economy_avg\": economy_avg,\n",
    "    }\n",
    ")\n",
    "topic_sentiments"
   ]
  },
  {
   "cell_type": "code",
   "execution_count": 14,
   "metadata": {
    "scrolled": true
   },
   "outputs": [
    {
     "data": {
      "text/html": [
       "<div>\n",
       "<style scoped>\n",
       "    .dataframe tbody tr th:only-of-type {\n",
       "        vertical-align: middle;\n",
       "    }\n",
       "\n",
       "    .dataframe tbody tr th {\n",
       "        vertical-align: top;\n",
       "    }\n",
       "\n",
       "    .dataframe thead th {\n",
       "        text-align: right;\n",
       "    }\n",
       "</style>\n",
       "<table border=\"1\" class=\"dataframe\">\n",
       "  <thead>\n",
       "    <tr style=\"text-align: right;\">\n",
       "      <th></th>\n",
       "      <th>aapl_avg</th>\n",
       "      <th>trade_avg</th>\n",
       "      <th>economy_avg</th>\n",
       "    </tr>\n",
       "  </thead>\n",
       "  <tbody>\n",
       "  </tbody>\n",
       "</table>\n",
       "</div>"
      ],
      "text/plain": [
       "Empty DataFrame\n",
       "Columns: [aapl_avg, trade_avg, economy_avg]\n",
       "Index: []"
      ]
     },
     "execution_count": 14,
     "metadata": {},
     "output_type": "execute_result"
    }
   ],
   "source": [
    "# Set the index value of the sentiment averages DataFrame to be the series of dates.\n",
    "topic_sentiments.index = pd.to_datetime(dates)\n",
    "topic_sentiments"
   ]
  },
  {
   "cell_type": "code",
   "execution_count": 15,
   "metadata": {},
   "outputs": [
    {
     "data": {
      "text/html": [
       "<div>\n",
       "<style scoped>\n",
       "    .dataframe tbody tr th:only-of-type {\n",
       "        vertical-align: middle;\n",
       "    }\n",
       "\n",
       "    .dataframe tbody tr th {\n",
       "        vertical-align: top;\n",
       "    }\n",
       "\n",
       "    .dataframe thead th {\n",
       "        text-align: right;\n",
       "    }\n",
       "</style>\n",
       "<table border=\"1\" class=\"dataframe\">\n",
       "  <thead>\n",
       "    <tr style=\"text-align: right;\">\n",
       "      <th></th>\n",
       "      <th>Close</th>\n",
       "      <th>Adj Close</th>\n",
       "      <th>aapl_avg</th>\n",
       "      <th>trade_avg</th>\n",
       "      <th>economy_avg</th>\n",
       "    </tr>\n",
       "  </thead>\n",
       "  <tbody>\n",
       "  </tbody>\n",
       "</table>\n",
       "</div>"
      ],
      "text/plain": [
       "Empty DataFrame\n",
       "Columns: [Close, Adj Close, aapl_avg, trade_avg, economy_avg]\n",
       "Index: []"
      ]
     },
     "execution_count": 15,
     "metadata": {},
     "output_type": "execute_result"
    }
   ],
   "source": [
    "# Merge with AAPL returns\n",
    "topic_sentiments = aapl_returns.join(topic_sentiments).dropna(how=\"any\")\n",
    "\n",
    "# Display data\n",
    "topic_sentiments.to_excel(\"topicSent.xlsx\")\n",
    "topic_sentiments"
   ]
  },
  {
   "cell_type": "code",
   "execution_count": 16,
   "metadata": {},
   "outputs": [
    {
     "name": "stderr",
     "output_type": "stream",
     "text": [
      "C:\\Users\\Owner\\anaconda3\\envs\\mlenv\\lib\\site-packages\\pandas\\io\\formats\\style.py:2813: RuntimeWarning: All-NaN slice encountered\n",
      "  smin = np.nanmin(gmap) if vmin is None else vmin\n",
      "C:\\Users\\Owner\\anaconda3\\envs\\mlenv\\lib\\site-packages\\pandas\\io\\formats\\style.py:2814: RuntimeWarning: All-NaN slice encountered\n",
      "  smax = np.nanmax(gmap) if vmax is None else vmax\n"
     ]
    },
    {
     "data": {
      "text/html": [
       "<style type=\"text/css\">\n",
       "#T_835fb_row0_col0, #T_835fb_row0_col1, #T_835fb_row0_col2, #T_835fb_row0_col3, #T_835fb_row0_col4, #T_835fb_row1_col0, #T_835fb_row1_col1, #T_835fb_row1_col2, #T_835fb_row1_col3, #T_835fb_row1_col4, #T_835fb_row2_col0, #T_835fb_row2_col1, #T_835fb_row2_col2, #T_835fb_row2_col3, #T_835fb_row2_col4, #T_835fb_row3_col0, #T_835fb_row3_col1, #T_835fb_row3_col2, #T_835fb_row3_col3, #T_835fb_row3_col4, #T_835fb_row4_col0, #T_835fb_row4_col1, #T_835fb_row4_col2, #T_835fb_row4_col3, #T_835fb_row4_col4 {\n",
       "  background-color: #000000;\n",
       "  color: #f1f1f1;\n",
       "}\n",
       "</style>\n",
       "<table id=\"T_835fb_\">\n",
       "  <thead>\n",
       "    <tr>\n",
       "      <th class=\"blank level0\" >&nbsp;</th>\n",
       "      <th class=\"col_heading level0 col0\" >Close</th>\n",
       "      <th class=\"col_heading level0 col1\" >Adj Close</th>\n",
       "      <th class=\"col_heading level0 col2\" >aapl_avg</th>\n",
       "      <th class=\"col_heading level0 col3\" >trade_avg</th>\n",
       "      <th class=\"col_heading level0 col4\" >economy_avg</th>\n",
       "    </tr>\n",
       "  </thead>\n",
       "  <tbody>\n",
       "    <tr>\n",
       "      <th id=\"T_835fb_level0_row0\" class=\"row_heading level0 row0\" >Close</th>\n",
       "      <td id=\"T_835fb_row0_col0\" class=\"data row0 col0\" >nan</td>\n",
       "      <td id=\"T_835fb_row0_col1\" class=\"data row0 col1\" >nan</td>\n",
       "      <td id=\"T_835fb_row0_col2\" class=\"data row0 col2\" >nan</td>\n",
       "      <td id=\"T_835fb_row0_col3\" class=\"data row0 col3\" >nan</td>\n",
       "      <td id=\"T_835fb_row0_col4\" class=\"data row0 col4\" >nan</td>\n",
       "    </tr>\n",
       "    <tr>\n",
       "      <th id=\"T_835fb_level0_row1\" class=\"row_heading level0 row1\" >Adj Close</th>\n",
       "      <td id=\"T_835fb_row1_col0\" class=\"data row1 col0\" >nan</td>\n",
       "      <td id=\"T_835fb_row1_col1\" class=\"data row1 col1\" >nan</td>\n",
       "      <td id=\"T_835fb_row1_col2\" class=\"data row1 col2\" >nan</td>\n",
       "      <td id=\"T_835fb_row1_col3\" class=\"data row1 col3\" >nan</td>\n",
       "      <td id=\"T_835fb_row1_col4\" class=\"data row1 col4\" >nan</td>\n",
       "    </tr>\n",
       "    <tr>\n",
       "      <th id=\"T_835fb_level0_row2\" class=\"row_heading level0 row2\" >aapl_avg</th>\n",
       "      <td id=\"T_835fb_row2_col0\" class=\"data row2 col0\" >nan</td>\n",
       "      <td id=\"T_835fb_row2_col1\" class=\"data row2 col1\" >nan</td>\n",
       "      <td id=\"T_835fb_row2_col2\" class=\"data row2 col2\" >nan</td>\n",
       "      <td id=\"T_835fb_row2_col3\" class=\"data row2 col3\" >nan</td>\n",
       "      <td id=\"T_835fb_row2_col4\" class=\"data row2 col4\" >nan</td>\n",
       "    </tr>\n",
       "    <tr>\n",
       "      <th id=\"T_835fb_level0_row3\" class=\"row_heading level0 row3\" >trade_avg</th>\n",
       "      <td id=\"T_835fb_row3_col0\" class=\"data row3 col0\" >nan</td>\n",
       "      <td id=\"T_835fb_row3_col1\" class=\"data row3 col1\" >nan</td>\n",
       "      <td id=\"T_835fb_row3_col2\" class=\"data row3 col2\" >nan</td>\n",
       "      <td id=\"T_835fb_row3_col3\" class=\"data row3 col3\" >nan</td>\n",
       "      <td id=\"T_835fb_row3_col4\" class=\"data row3 col4\" >nan</td>\n",
       "    </tr>\n",
       "    <tr>\n",
       "      <th id=\"T_835fb_level0_row4\" class=\"row_heading level0 row4\" >economy_avg</th>\n",
       "      <td id=\"T_835fb_row4_col0\" class=\"data row4 col0\" >nan</td>\n",
       "      <td id=\"T_835fb_row4_col1\" class=\"data row4 col1\" >nan</td>\n",
       "      <td id=\"T_835fb_row4_col2\" class=\"data row4 col2\" >nan</td>\n",
       "      <td id=\"T_835fb_row4_col3\" class=\"data row4 col3\" >nan</td>\n",
       "      <td id=\"T_835fb_row4_col4\" class=\"data row4 col4\" >nan</td>\n",
       "    </tr>\n",
       "  </tbody>\n",
       "</table>\n"
      ],
      "text/plain": [
       "<pandas.io.formats.style.Styler at 0x1acfd8abf08>"
      ]
     },
     "execution_count": 16,
     "metadata": {},
     "output_type": "execute_result"
    }
   ],
   "source": [
    "# Correlate the headlines' sentiment to returns\n",
    "topic_sentiments.corr().style.background_gradient()"
   ]
  }
 ],
 "metadata": {
  "file_extension": ".py",
  "kernelspec": {
   "display_name": "Python 3 (ipykernel)",
   "language": "python",
   "name": "python3"
  },
  "language_info": {
   "codemirror_mode": {
    "name": "ipython",
    "version": 3
   },
   "file_extension": ".py",
   "mimetype": "text/x-python",
   "name": "python",
   "nbconvert_exporter": "python",
   "pygments_lexer": "ipython3",
   "version": "3.7.11"
  },
  "mimetype": "text/x-python",
  "name": "python",
  "npconvert_exporter": "python",
  "pygments_lexer": "ipython3",
  "version": 3
 },
 "nbformat": 4,
 "nbformat_minor": 4
}
